{
 "cells": [
  {
   "cell_type": "code",
   "execution_count": 1,
   "metadata": {},
   "outputs": [],
   "source": [
    "import json"
   ]
  },
  {
   "cell_type": "code",
   "execution_count": 3,
   "metadata": {},
   "outputs": [],
   "source": [
    "with open('data/fho_hands_train.json') as f:\n",
    "    fho_hands_train = json.load(f)\n",
    "with open('data/fho_hands_val.json') as f:\n",
    "    fho_hands_val = json.load(f)"
   ]
  },
  {
   "cell_type": "code",
   "execution_count": 4,
   "metadata": {},
   "outputs": [
    {
     "data": {
      "text/plain": [
       "dict_keys(['version', 'date', 'description', 'manifest', 'split', 'clips'])"
      ]
     },
     "execution_count": 4,
     "metadata": {},
     "output_type": "execute_result"
    }
   ],
   "source": [
    "fho_hands_train.keys()"
   ]
  },
  {
   "cell_type": "code",
   "execution_count": 16,
   "metadata": {},
   "outputs": [
    {
     "data": {
      "text/plain": [
       "447"
      ]
     },
     "execution_count": 16,
     "metadata": {},
     "output_type": "execute_result"
    }
   ],
   "source": [
    "len(fho_hands_val['clips'])"
   ]
  },
  {
   "cell_type": "code",
   "execution_count": null,
   "metadata": {},
   "outputs": [],
   "source": []
  },
  {
   "cell_type": "code",
   "execution_count": 18,
   "metadata": {},
   "outputs": [
    {
     "data": {
      "text/plain": [
       "592"
      ]
     },
     "execution_count": 18,
     "metadata": {},
     "output_type": "execute_result"
    }
   ],
   "source": [
    "fho_hand_trainval_clips = {}\n",
    "for pnr_c in fho_hands_train['clips']:\n",
    "    clip_uid = pnr_c['clip_uid']\n",
    "    if clip_uid not in fho_hand_trainval_clips:\n",
    "        fho_hand_trainval_clips[clip_uid]={\n",
    "            'clip_uid':clip_uid,\n",
    "            'clip_id':pnr_c['video_uid'],\n",
    "            'video_uid':pnr_c['video_uid'],\n",
    "            'frames':[]\n",
    "        }\n",
    "    else:\n",
    "        fho_hand_trainval_clips[clip_uid]['frames'] = fho_hand_trainval_clips['frames']+pnr_c['frames']\n",
    "len(fho_hand_trainval_clips)"
   ]
  },
  {
   "cell_type": "code",
   "execution_count": 19,
   "metadata": {},
   "outputs": [
    {
     "data": {
      "text/plain": [
       "1039"
      ]
     },
     "execution_count": 19,
     "metadata": {},
     "output_type": "execute_result"
    }
   ],
   "source": [
    "for pnr_c in fho_hands_val['clips']:\n",
    "    clip_uid = pnr_c['clip_uid']\n",
    "    if clip_uid not in fho_hand_trainval_clips:\n",
    "        fho_hand_trainval_clips[clip_uid]={\n",
    "            'clip_uid':clip_uid,\n",
    "            'clip_id':pnr_c['video_uid'],\n",
    "            'video_uid':pnr_c['video_uid'],\n",
    "            'frames':pnr_c['frames']\n",
    "        }\n",
    "    else:\n",
    "        fho_hand_trainval_clips[clip_uid]['frames'] = fho_hand_trainval_clips['frames']+pnr_c['frames']\n",
    "len(fho_hand_trainval_clips)"
   ]
  },
  {
   "cell_type": "code",
   "execution_count": 20,
   "metadata": {},
   "outputs": [],
   "source": [
    "with open('data/fho_hand_trainval_clips.json','w') as f:\n",
    "    json.dump(fho_hand_trainval_clips,f)"
   ]
  },
  {
   "cell_type": "code",
   "execution_count": null,
   "metadata": {},
   "outputs": [],
   "source": []
  }
 ],
 "metadata": {
  "kernelspec": {
   "display_name": "Python 3",
   "language": "python",
   "name": "python3"
  },
  "language_info": {
   "codemirror_mode": {
    "name": "ipython",
    "version": 3
   },
   "file_extension": ".py",
   "mimetype": "text/x-python",
   "name": "python",
   "nbconvert_exporter": "python",
   "pygments_lexer": "ipython3",
   "version": "3.7.7"
  }
 },
 "nbformat": 4,
 "nbformat_minor": 4
}
